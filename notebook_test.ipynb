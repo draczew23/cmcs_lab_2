{
 "cells": [
  {
   "cell_type": "code",
   "execution_count": 38,
   "metadata": {},
   "outputs": [],
   "source": [
    "import matplotlib.pyplot as plt\n",
    "import matplotlib as mpl\n",
    "import numpy as np\n",
    "from numpy.lib.index_tricks import diag_indices"
   ]
  },
  {
   "cell_type": "code",
   "execution_count": 44,
   "metadata": {},
   "outputs": [
    {
     "name": "stdout",
     "output_type": "stream",
     "text": [
      "[-1  1  1  1 -1  1 -1 -1 -1 -1  1 -1 -1 -1  1 -1 -1 -1 -1 -1 -1 -1 -1 -1\n",
      " -1 -1 -1  1 -1 -1]\n",
      "___________________________________________________\n",
      "[-1  1  1  1 -1  1 -1 -1 -1  1  1 -1 -1 -1  1  1 -1 -1 -1  1  1 -1 -1 -1\n",
      "  1 -1  1  1  1 -1]\n"
     ]
    }
   ],
   "source": [
    "# spins from -1 to 1\n",
    "\n",
    "zero = np.array([\n",
    "0,1,1,1,0,\n",
    "1,0,0,0,1,\n",
    "1,0,0,0,1,\n",
    "1,0,0,0,1,\n",
    "1,0,0,0,1,\n",
    "0,1,1,1,0\n",
    "])\n",
    "\n",
    "zero = np.where(zero != 0, zero, -1)\n",
    "\n",
    "one=np.array([\n",
    "0,1,1,0,0,\n",
    "0,0,1,0,0,\n",
    "0,0,1,0,0,\n",
    "0,0,1,0,0,\n",
    "0,0,1,0,0,\n",
    "0,0,1,0,0\n",
    "])\n",
    "\n",
    "one = np.where(one != 0, one, -1)\n",
    "\n",
    "two=np.array([\n",
    "1,1,1,0,0,\n",
    "0,0,0,1,0,\n",
    "0,0,0,1,0,\n",
    "0,1,1,0,0,\n",
    "1,0,0,0,0,\n",
    "1,1,1,1,1,\n",
    "])\n",
    "\n",
    "two = np.where(two != 0, two, -1)\n",
    "\n",
    "noisy0=np.array([\n",
    "0,1,1,1,0,\n",
    "1,0,0,0,0,\n",
    "1,0,0,0,1,\n",
    "0,0,0,0,0,\n",
    "0,0,0,0,0,\n",
    "0,0,1,0,0,\n",
    "])\n",
    "\n",
    "noisy0 = np.where(noisy0 != 0, noisy0, -1)\n",
    "\n",
    "noisy2=np.array([\n",
    "1,1,1,0,0,\n",
    "0,0,0,0,0,\n",
    "0,0,0,0,0,\n",
    "0,0,1,0,0,\n",
    "1,0,0,0,0,\n",
    "1,1,0,0,1,\n",
    "])\n",
    "\n",
    "noisy2 = np.where(noisy2 != 0, noisy2, -1)\n",
    "\n",
    "noisy2b=np.array([\n",
    "1,1,1,0,0,\n",
    "0,0,0,1,0,\n",
    "0,0,0,1,0,\n",
    "0,0,0,0,0,\n",
    "0,0,0,0,0,\n",
    "0,0,0,0,0,\n",
    "])\n",
    "\n",
    "noisy2b = np.where(noisy2b != 0, noisy2b, -1)\n",
    "\n",
    "time_step = 50000\n",
    "noisy0_copy = noisy0\n",
    "\n",
    "tens0 = np.tensordot(zero, zero, axes = 0)\n",
    "tens1 = np.tensordot(one, one, axes = 0)\n",
    "tens2 = np.tensordot(two, two, axes = 0)\n",
    "tens_sum = tens0 + tens1 + tens2\n",
    "\n",
    "one_ar = np.ones((30,30))\n",
    "diag_matrix = np.diag(np.diag(one_ar))\n",
    "\n",
    "w_matrix = 1/3 * (tens0 + tens1 + tens2) - diag_matrix\n",
    "\n",
    "energy = np.zeros(diag_matrix.shape)\n",
    "\n",
    "for t in range(time_step):\n",
    "    a = np.dot(w_matrix, noisy0_copy) * noisy0_copy\n",
    "    energy += -1/2 * a \n",
    "    #  energy = np.where(a < 0, energy, 1)\n",
    "    a_where_lower = a < 0\n",
    "    noisy0_copy[a_where_lower] = 1\n",
    "\n",
    "print(noisy0_copy)\n",
    "print(\"___________________________________________________\")\n",
    "print(zero)"
   ]
  },
  {
   "cell_type": "code",
   "execution_count": 50,
   "metadata": {},
   "outputs": [
    {
     "data": {
      "text/plain": [
       "-72.0"
      ]
     },
     "execution_count": 50,
     "metadata": {},
     "output_type": "execute_result"
    }
   ],
   "source": [
    "np.sum(np.dot(w_matrix, noisy0_copy), axis=0)"
   ]
  },
  {
   "cell_type": "code",
   "execution_count": 45,
   "metadata": {},
   "outputs": [
    {
     "data": {
      "image/png": "[encoded data removed]",
      "text/plain": [
       "<Figure size 640x480 with 1 Axes>"
      ]
     },
     "metadata": {},
     "output_type": "display_data"
    }
   ],
   "source": [
    "\n",
    "C = np.reshape(noisy0_copy, (-6, 5))\n",
    "plt.imshow(C)\n",
    "plt.show()"
   ]
  },
  {
   "cell_type": "code",
   "execution_count": null,
   "metadata": {},
   "outputs": [],
   "source": []
  },
  {
   "cell_type": "markdown",
   "metadata": {},
   "source": [
    "# We will try to view those numbers here by converting vector to 2d array "
   ]
  },
  {
   "cell_type": "code",
   "execution_count": 46,
   "metadata": {},
   "outputs": [],
   "source": [
    "import numpy as np\n",
    "\n",
    "A = np.array([1, 2, 3, 4, 5, 6])\n",
    "B = np.reshape(A, (-1, 2))\n",
    "\n",
    "C = np.reshape(zero, (-6, 5))"
   ]
  },
  {
   "cell_type": "code",
   "execution_count": 47,
   "metadata": {},
   "outputs": [
    {
     "data": {
      "text/plain": [
       "array([[-1,  1,  1,  1, -1],\n",
       "       [ 1, -1, -1, -1,  1],\n",
       "       [ 1, -1, -1, -1,  1],\n",
       "       [ 1, -1, -1, -1,  1],\n",
       "       [ 1, -1, -1, -1,  1],\n",
       "       [-1,  1,  1,  1, -1]])"
      ]
     },
     "execution_count": 47,
     "metadata": {},
     "output_type": "execute_result"
    }
   ],
   "source": [
    "C"
   ]
  },
  {
   "cell_type": "code",
   "execution_count": 48,
   "metadata": {},
   "outputs": [
    {
     "data": {
      "image/png": "[encoded data removed]",
      "text/plain": [
       "<Figure size 640x480 with 1 Axes>"
      ]
     },
     "metadata": {},
     "output_type": "display_data"
    }
   ],
   "source": [
    "plt.imshow(C)\n",
    "plt.show()"
   ]
  }
 ],
 "metadata": {
  "interpreter": {
   "hash": "bc0ab7a0a7955a602fe482a24b42dcde327bf84a93fc5be766be7539488a2b62"
  },
  "kernelspec": {
   "display_name": "Python 3.9.6 64-bit ('spyder': conda)",
   "name": "python3"
  },
  "language_info": {
   "codemirror_mode": {
    "name": "ipython",
    "version": 3
   },
   "file_extension": ".py",
   "mimetype": "text/x-python",
   "name": "python",
   "nbconvert_exporter": "python",
   "pygments_lexer": "ipython3",
   "version": "3.9.6"
  },
  "orig_nbformat": 4
 },
 "nbformat": 4,
 "nbformat_minor": 2
}
