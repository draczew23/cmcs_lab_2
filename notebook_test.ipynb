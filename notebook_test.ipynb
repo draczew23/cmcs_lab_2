{
 "cells": [
  {
   "cell_type": "code",
   "execution_count": 165,
   "metadata": {},
   "outputs": [],
   "source": [
    "import matplotlib.pyplot as plt\n",
    "import matplotlib as mpl\n",
    "import numpy as np\n",
    "from numpy.lib.index_tricks import diag_indices"
   ]
  },
  {
   "cell_type": "code",
   "execution_count": 166,
   "metadata": {},
   "outputs": [],
   "source": [
    "# spins from -1 to 1\n",
    "\n",
    "zero = np.array([\n",
    "0,1,1,1,0,\n",
    "1,0,0,0,1,\n",
    "1,0,0,0,1,\n",
    "1,0,0,0,1,\n",
    "1,0,0,0,1,\n",
    "0,1,1,1,0\n",
    "])\n",
    "\n",
    "zero = np.where(zero != 0, zero, -1)\n",
    "\n",
    "one=np.array([\n",
    "0,1,1,0,0,\n",
    "0,0,1,0,0,\n",
    "0,0,1,0,0,\n",
    "0,0,1,0,0,\n",
    "0,0,1,0,0,\n",
    "0,0,1,0,0\n",
    "])\n",
    "\n",
    "one = np.where(one != 0, one, -1)\n",
    "\n",
    "two=np.array([\n",
    "1,1,1,0,0,\n",
    "0,0,0,1,0,\n",
    "0,0,0,1,0,\n",
    "0,1,1,0,0,\n",
    "1,0,0,0,0,\n",
    "1,1,1,1,1,\n",
    "])\n",
    "\n",
    "two = np.where(two != 0, two, -1)\n",
    "\n",
    "noisy0=np.array([\n",
    "0,1,1,1,0,\n",
    "1,0,0,0,0,\n",
    "1,0,0,0,1,\n",
    "0,0,0,0,0,\n",
    "0,0,0,0,0,\n",
    "0,0,1,0,0,\n",
    "])\n",
    "\n",
    "noisy0 = np.where(noisy0 != 0, noisy0, -1)\n",
    "\n",
    "noisy2=np.array([\n",
    "1,1,1,0,0,\n",
    "0,0,0,0,0,\n",
    "0,0,0,0,0,\n",
    "0,0,1,0,0,\n",
    "1,0,0,0,0,\n",
    "1,1,0,0,1,\n",
    "])\n",
    "\n",
    "noisy2 = np.where(noisy2 != 0, noisy2, -1)\n",
    "\n",
    "noisy2b=np.array([\n",
    "1,1,1,0,0,\n",
    "0,0,0,1,0,\n",
    "0,0,0,1,0,\n",
    "0,0,0,0,0,\n",
    "0,0,0,0,0,\n",
    "0,0,0,0,0,\n",
    "])\n",
    "\n",
    "noisy2b = np.where(noisy2b != 0, noisy2b, -1)\n",
    "\n",
    "#   Initialization\n",
    "\n",
    "time_step = 10\n",
    "\n",
    "noisy0_copy = noisy0\n",
    "noisy1_copy = noisy2\n",
    "noisy2_copy = noisy2b\n",
    "\n",
    "# Tensor product of our patterns\n",
    "\n",
    "tens0 = np.tensordot(zero, zero, axes = 0)\n",
    "tens1 = np.tensordot(one, one, axes = 0)\n",
    "tens2 = np.tensordot(two, two, axes = 0)\n",
    "tens_sum = tens0 + tens1 + tens2\n",
    "\n",
    "# Defined diagonal matrix\n",
    "\n",
    "one_ar = np.ones((30,30))\n",
    "diag_matrix = np.diag(np.diag(one_ar))\n",
    "\n",
    "# W matrix calculation\n",
    "\n",
    "w_matrix = 1/3 * (tens0 + tens1 + tens2) - 3 * diag_matrix  # eksperyment z przemnozeniem macierzy\n",
    "\n",
    "energy_zero = np.array([])\n",
    "energy_one = np.array([])\n",
    "energy_two = np.array([])\n",
    "\n",
    "time_axis = np.arange(0, time_step, 1)\n",
    "\n",
    "# Zero pattern\n",
    "\n",
    "for t in range(time_step):\n",
    "    a = np.dot(w_matrix, noisy0_copy)\n",
    "    energy_sum = np.sum(-1/2 * a * noisy0_copy)\n",
    "    energy_zero = np.append(energy_zero, energy_sum) \n",
    "    a_where_lower = a < 0\n",
    "    noisy0_copy[a_where_lower] = np.negative(noisy0_copy[a_where_lower])\n",
    "\n",
    "# One pattern\n",
    "\n",
    "for t in range(time_step):\n",
    "    b = np.dot(w_matrix, noisy1_copy)\n",
    "    energy_sum = np.sum(-1/2 * b * noisy1_copy)\n",
    "    energy_one = np.append(energy_one, energy_sum) \n",
    "    b_where_lower = b < 0\n",
    "    noisy1_copy[b_where_lower] = np.negative(noisy1_copy[b_where_lower])\n",
    "\n",
    "# Two pattern\n",
    "\n",
    "for t in range(time_step):\n",
    "    c = np.dot(w_matrix, noisy2_copy)\n",
    "    energy_sum = np.sum(-1/2 * c * noisy2_copy)\n",
    "    energy_two = np.append(energy_two, energy_sum) \n",
    "    c_where_lower = c < 0\n",
    "    noisy2_copy[c_where_lower] = np.negative(noisy2_copy[c_where_lower])\n"
   ]
  },
  {
   "cell_type": "code",
   "execution_count": 167,
   "metadata": {},
   "outputs": [
    {
     "name": "stdout",
     "output_type": "stream",
     "text": [
      "[False  True  True False False False False  True False False False False\n",
      "  True False False False False  True False False False False  True False\n",
      " False False False  True False False]\n",
      "[  1.66666667 -10.33333333 -10.33333333   3.           4.33333333\n",
      "   3.           4.33333333  -6.33333333   1.66666667   3.\n",
      "   3.           4.33333333  -6.33333333   1.66666667   3.\n",
      "   3.           1.66666667  -9.           4.33333333   3.\n",
      "   0.33333333   4.33333333  -6.33333333   4.33333333   3.\n",
      "   1.66666667   0.33333333 -10.33333333   0.33333333   1.66666667]\n"
     ]
    },
    {
     "data": {
      "text/plain": [
       "array([ -31.,  -15.,   15.,  -25.,   15.,  -41.,  -81.,   -1.,  -87.,\n",
       "         -1., -111.,   -1., -111.,   -1., -111.,   -1., -111.,   -1.,\n",
       "       -111.,   -1., -111.,   -1., -111.,   -1., -111.,   -1., -111.,\n",
       "         -1., -111.,   -1., -111.,   -1., -111.,   -1., -111.,   -1.,\n",
       "       -111.,   -1., -111.,   -1., -111.,   -1., -111.,   -1., -111.,\n",
       "         -1., -111.,   -1., -111.,   -1., -111.,   -1., -111.,   -1.,\n",
       "       -111.,   -1., -111.,   -1., -111.,   -1., -111.,   -1., -111.,\n",
       "         -1., -111.,   -1., -111.,   -1., -111.,   -1., -111.,   -1.,\n",
       "       -111.,   -1., -111.,   -1., -111.,   -1., -111.,   -1., -111.,\n",
       "         -1., -111.,   -1., -111.,   -1., -111.,   -1., -111.,   -1.,\n",
       "       -111.,   -1., -111.,   -1., -111.,   -1., -111.,   -1., -111.,\n",
       "         -1.])"
      ]
     },
     "execution_count": 167,
     "metadata": {},
     "output_type": "execute_result"
    }
   ],
   "source": [
    "print(a_where_lower)\n",
    "print(a)\n",
    "energy"
   ]
  },
  {
   "cell_type": "code",
   "execution_count": 168,
   "metadata": {},
   "outputs": [
    {
     "data": {
      "image/png": "[encoded data removed]",
      "text/plain": [
       "<Figure size 640x480 with 1 Axes>"
      ]
     },
     "metadata": {},
     "output_type": "display_data"
    }
   ],
   "source": [
    "plt.plot(time_axis, energy_one)\n",
    "plt.show()"
   ]
  },
  {
   "cell_type": "code",
   "execution_count": 169,
   "metadata": {},
   "outputs": [
    {
     "data": {
      "image/png": "[encoded data removed]",
      "text/plain": [
       "<Figure size 640x480 with 1 Axes>"
      ]
     },
     "metadata": {},
     "output_type": "display_data"
    }
   ],
   "source": [
    "\n",
    "D = np.reshape(noisy2_copy, (-6, 5))\n",
    "plt.imshow(D)\n",
    "plt.show()"
   ]
  },
  {
   "cell_type": "markdown",
   "metadata": {},
   "source": [
    "# We will try to view those numbers here by converting vector to 2d array "
   ]
  },
  {
   "cell_type": "code",
   "execution_count": 170,
   "metadata": {},
   "outputs": [],
   "source": [
    "import numpy as np\n",
    "\n",
    "A = np.array([1, 2, 3, 4, 5, 6])\n",
    "B = np.reshape(A, (-1, 2))\n",
    "\n",
    "C = np.reshape(zero, (-6, 5))"
   ]
  },
  {
   "cell_type": "code",
   "execution_count": 171,
   "metadata": {},
   "outputs": [
    {
     "data": {
      "text/plain": [
       "array([[-1,  1,  1,  1, -1],\n",
       "       [ 1, -1, -1, -1,  1],\n",
       "       [ 1, -1, -1, -1,  1],\n",
       "       [ 1, -1, -1, -1,  1],\n",
       "       [ 1, -1, -1, -1,  1],\n",
       "       [-1,  1,  1,  1, -1]])"
      ]
     },
     "execution_count": 171,
     "metadata": {},
     "output_type": "execute_result"
    }
   ],
   "source": [
    "C"
   ]
  },
  {
   "cell_type": "code",
   "execution_count": 172,
   "metadata": {},
   "outputs": [
    {
     "data": {
      "image/png": "[encoded data removed]",
      "text/plain": [
       "<Figure size 640x480 with 1 Axes>"
      ]
     },
     "metadata": {},
     "output_type": "display_data"
    }
   ],
   "source": [
    "plt.imshow(C)\n",
    "plt.show()"
   ]
  }
 ],
 "metadata": {
  "interpreter": {
   "hash": "bc0ab7a0a7955a602fe482a24b42dcde327bf84a93fc5be766be7539488a2b62"
  },
  "kernelspec": {
   "display_name": "Python 3.9.6 64-bit ('spyder': conda)",
   "name": "python3"
  },
  "language_info": {
   "codemirror_mode": {
    "name": "ipython",
    "version": 3
   },
   "file_extension": ".py",
   "mimetype": "text/x-python",
   "name": "python",
   "nbconvert_exporter": "python",
   "pygments_lexer": "ipython3",
   "version": "3.9.6"
  },
  "orig_nbformat": 4
 },
 "nbformat": 4,
 "nbformat_minor": 2
}
